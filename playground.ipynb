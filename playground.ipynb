{
 "cells": [
  {
   "cell_type": "code",
   "execution_count": 12,
   "metadata": {},
   "outputs": [],
   "source": [
    "import numpy as np\n",
    "import IPython\n",
    "import json \n",
    "\n",
    "def Audio(audio: np.ndarray, sr: int):\n",
    "    \"\"\"\n",
    "    Use instead of IPython.display.Audio as a workaround for VS Code.\n",
    "    `audio` is an array with shape (channels, samples) or just (samples,) for mono.\n",
    "    \"\"\"\n",
    "\n",
    "    if np.ndim(audio) == 1:\n",
    "        channels = [audio.tolist()]\n",
    "    else:\n",
    "        channels = audio.tolist()\n",
    "\n",
    "    return IPython.display.HTML(\"\"\"\n",
    "        <script>\n",
    "            if (!window.audioContext) {\n",
    "                window.audioContext = new AudioContext();\n",
    "                window.playAudio = function(audioChannels, sr) {\n",
    "                    const buffer = audioContext.createBuffer(audioChannels.length, audioChannels[0].length, sr);\n",
    "                    for (let [channel, data] of audioChannels.entries()) {\n",
    "                        buffer.copyToChannel(Float32Array.from(data), channel);\n",
    "                    }\n",
    "            \n",
    "                    const source = audioContext.createBufferSource();\n",
    "                    source.buffer = buffer;\n",
    "                    source.connect(audioContext.destination);\n",
    "                    source.start();\n",
    "                }\n",
    "            }\n",
    "        </script>\n",
    "        <button onclick=\"playAudio(%s, %s)\">Play</button>\n",
    "    \"\"\" % (json.dumps(channels), sr))"
   ]
  },
  {
   "cell_type": "code",
   "execution_count": 26,
   "metadata": {},
   "outputs": [],
   "source": [
    "from playsound import playsound\n",
    "from mfs.core.ableton.models import AbletonLiveSet \n",
    "\n",
    "def play_als(als: AbletonLiveSet):\n",
    "    for track in als.tracks:\n",
    "        \n",
    "        print(\"Track: \", track.name)\n",
    "        if not track.clips:\n",
    "            continue\n",
    "\n",
    "        for clip in track.clips:\n",
    "            \n",
    "            # if not \"ableton-set-fixtures\" in str(clip.audio_file.path):\n",
    "            #     continue\n",
    "            \n",
    "            # print(name, als.header.MinorVersion)\n",
    "            try:\n",
    "                # playsound(clip.audio_file.path)\n",
    "\n",
    "            # if not clip.audio_file.path.suffix == \"wav\":\n",
    "            #     continue\n",
    "\n",
    "                Audio(open(clip.audio_file.path).read(), clip.audio_file.sample_rate)\n",
    "            \n",
    "            # print(\"\\tClip: \", clip.name, f\"{clip.audio_file.duration:.2f} sec\")\n",
    "            except Exception as e:\n",
    "                    continue"
   ]
  },
  {
   "cell_type": "code",
   "execution_count": 3,
   "metadata": {},
   "outputs": [],
   "source": [
    "from collections import defaultdict\n",
    "from pathlib import Path\n",
    "from mfs.core.ableton.abletonlivesetreader import AbletonLiveSetFileReader\n",
    "from mfs.core.ableton.abletonlivesetparser import AbletonLiveSetParser\n",
    "from xml.etree import ElementTree\n",
    "import os\n",
    "\n",
    "from mfs.core.ableton.models import AbletonLiveSet \n",
    "\n",
    "reader = AbletonLiveSetFileReader()\n",
    "parser = AbletonLiveSetParser()\n",
    "\n",
    "sets = defaultdict(AbletonLiveSet)\n",
    "import os\n",
    "for root, dirs, files in os.walk(Path(\"C:/Users/bourd/ableton-set-fixtures\"), topdown=False):\n",
    "    for name in files:\n",
    "        if not name.endswith(\".als\"):\n",
    "            continue\n",
    "\n",
    "        als_path = Path(root,name)\n",
    "            \n",
    "\n",
    "        try:\n",
    "            tree = reader.read_als_file(als_path)\n",
    "            als = parser.parse_als_xml_struct(tree)\n",
    "        except Exception as e:\n",
    "            continue    \n",
    "        if not als.tracks:\n",
    "            continue\n",
    "\n",
    "        if all([char in name for char in [\"[\", \"]\"]]):\n",
    "            continue\n",
    "\n",
    "        sets[name] = als\n",
    "\n",
    "        # play_als(als)"
   ]
  },
  {
   "cell_type": "code",
   "execution_count": 27,
   "metadata": {},
   "outputs": [
    {
     "name": "stdout",
     "output_type": "stream",
     "text": [
      "Track:  2-3-Audio 1\n",
      "Track:  3-Audio\n",
      "Track:  4-7-Audio 1\n",
      "Track:  5-6-Audio 1\n",
      "Track:  10-8-Audio 1\n"
     ]
    }
   ],
   "source": [
    "set_name = \"chapter four.als\"\n",
    "play_als(sets[set_name])\n",
    "\n",
    "# als = sets[set_name]\n",
    "\n",
    "# for track in als.tracks:\n",
    "    \n",
    "#     # print(\"Track: \", track.name)\n",
    "#     if not track.clips:\n",
    "#         continue\n",
    "\n",
    "#     for clip in track.clips:\n",
    "#         file_path = f\"{clip.audio_file.path}\"\n",
    "#         print(\"\\tClip: \", file_path, f\"{clip.audio_file.duration:.2f} sec\")\n",
    "#         Audio(filename=file_path, rate=clip.audio_file.sample_rate, autoplay=False, element_id=clip.name)\n"
   ]
  },
  {
   "cell_type": "code",
   "execution_count": 1,
   "metadata": {},
   "outputs": [
    {
     "ename": "NameError",
     "evalue": "name 'sets' is not defined",
     "output_type": "error",
     "traceback": [
      "\u001b[1;31m---------------------------------------------------------------------------\u001b[0m",
      "\u001b[1;31mNameError\u001b[0m                                 Traceback (most recent call last)",
      "Cell \u001b[1;32mIn[1], line 1\u001b[0m\n\u001b[1;32m----> 1\u001b[0m {k:v\u001b[39m.\u001b[39mdict() \u001b[39mfor\u001b[39;00m k, v \u001b[39min\u001b[39;00m sets\u001b[39m.\u001b[39mitems() \u001b[39mif\u001b[39;00m k \u001b[39m==\u001b[39m \u001b[39m\"\u001b[39m\u001b[39mchapter four.als\u001b[39m\u001b[39m\"\u001b[39m}\n",
      "\u001b[1;31mNameError\u001b[0m: name 'sets' is not defined"
     ]
    }
   ],
   "source": [
    "\n",
    "{k:v.dict() for k, v in sets.items() if k == \"chapter four.als\"}"
   ]
  }
 ],
 "metadata": {
  "kernelspec": {
   "display_name": "mfs",
   "language": "python",
   "name": "python3"
  },
  "language_info": {
   "codemirror_mode": {
    "name": "ipython",
    "version": 3
   },
   "file_extension": ".py",
   "mimetype": "text/x-python",
   "name": "python",
   "nbconvert_exporter": "python",
   "pygments_lexer": "ipython3",
   "version": "3.9.6"
  },
  "orig_nbformat": 4
 },
 "nbformat": 4,
 "nbformat_minor": 2
}
