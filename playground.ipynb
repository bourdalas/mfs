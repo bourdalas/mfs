{
 "cells": [
  {
   "cell_type": "code",
   "execution_count": 1,
   "metadata": {},
   "outputs": [
    {
     "ename": "AttributeError",
     "evalue": "'NoneType' object has no attribute 'get'",
     "output_type": "error",
     "traceback": [
      "\u001b[1;31m---------------------------------------------------------------------------\u001b[0m",
      "\u001b[1;31mAttributeError\u001b[0m                            Traceback (most recent call last)",
      "Cell \u001b[1;32mIn[1], line 13\u001b[0m\n\u001b[0;32m     10\u001b[0m reader \u001b[39m=\u001b[39m AbletonLiveSetFileReader()\n\u001b[0;32m     12\u001b[0m tree \u001b[39m=\u001b[39m reader\u001b[39m.\u001b[39mread_als_file(als_path)\n\u001b[1;32m---> 13\u001b[0m als \u001b[39m=\u001b[39m AbletonLiveSetParser()\u001b[39m.\u001b[39;49mparse_als_xml_struct(tree)\n",
      "File \u001b[1;32mc:\\Users\\bourd\\mfs\\mfs\\core\\ableton\\abletonlivesetparser.py:27\u001b[0m, in \u001b[0;36mAbletonLiveSetParser.parse_als_xml_struct\u001b[1;34m(self, xml_struct)\u001b[0m\n\u001b[0;32m     16\u001b[0m \u001b[39melif\u001b[39;00m xml_struct\u001b[39m.\u001b[39mfind(\u001b[39m'\u001b[39m\u001b[39m.//.//Tracks\u001b[39m\u001b[39m'\u001b[39m):\n\u001b[0;32m     17\u001b[0m     tracks_tree \u001b[39m=\u001b[39m xml_struct\u001b[39m.\u001b[39mfind(\u001b[39m'\u001b[39m\u001b[39m.//.//Tracks\u001b[39m\u001b[39m'\u001b[39m)\n\u001b[0;32m     19\u001b[0m \u001b[39mreturn\u001b[39;00m AbletonLiveSet(\n\u001b[0;32m     20\u001b[0m     header \u001b[39m=\u001b[39m AbletonLiveSetHeader(\n\u001b[0;32m     21\u001b[0m     MajorVersion\u001b[39m=\u001b[39m\u001b[39mint\u001b[39m(element\u001b[39m.\u001b[39mattrib[\u001b[39m\"\u001b[39m\u001b[39mMajorVersion\u001b[39m\u001b[39m\"\u001b[39m]),\n\u001b[0;32m     22\u001b[0m     MinorVersion\u001b[39m=\u001b[39melement\u001b[39m.\u001b[39mattrib[\u001b[39m\"\u001b[39m\u001b[39mMinorVersion\u001b[39m\u001b[39m\"\u001b[39m],\n\u001b[0;32m     23\u001b[0m     SchemaChangeCount\u001b[39m=\u001b[39m\u001b[39mint\u001b[39m(element\u001b[39m.\u001b[39mattrib[\u001b[39m\"\u001b[39m\u001b[39mSchemaChangeCount\u001b[39m\u001b[39m\"\u001b[39m]),\n\u001b[0;32m     24\u001b[0m     Creator\u001b[39m=\u001b[39melement\u001b[39m.\u001b[39mattrib[\u001b[39m\"\u001b[39m\u001b[39mCreator\u001b[39m\u001b[39m\"\u001b[39m],\n\u001b[0;32m     25\u001b[0m     Revision\u001b[39m=\u001b[39melement\u001b[39m.\u001b[39mattrib[\u001b[39m\"\u001b[39m\u001b[39mRevision\u001b[39m\u001b[39m\"\u001b[39m],\n\u001b[0;32m     26\u001b[0m ),\n\u001b[1;32m---> 27\u001b[0m     tracks\u001b[39m=\u001b[39m\u001b[39mself\u001b[39;49m\u001b[39m.\u001b[39;49m_parse_audio_tracks(tracks_tree))\n",
      "File \u001b[1;32mc:\\Users\\bourd\\mfs\\mfs\\core\\ableton\\abletonlivesetparser.py:33\u001b[0m, in \u001b[0;36mAbletonLiveSetParser._parse_audio_tracks\u001b[1;34m(self, tracks)\u001b[0m\n\u001b[0;32m     30\u001b[0m audio_tracks \u001b[39m=\u001b[39m []\n\u001b[0;32m     31\u001b[0m \u001b[39mfor\u001b[39;00m track \u001b[39min\u001b[39;00m tracks\u001b[39m.\u001b[39mfindall(\u001b[39m'\u001b[39m\u001b[39m.//AudioTrack\u001b[39m\u001b[39m'\u001b[39m):\n\u001b[1;32m---> 33\u001b[0m     audio_track \u001b[39m=\u001b[39m \u001b[39mself\u001b[39;49m\u001b[39m.\u001b[39;49m_parse_audio_track(track)\n\u001b[0;32m     34\u001b[0m     audio_tracks\u001b[39m.\u001b[39mappend(audio_track)\n\u001b[0;32m     35\u001b[0m \u001b[39mreturn\u001b[39;00m audio_tracks\n",
      "File \u001b[1;32mc:\\Users\\bourd\\mfs\\mfs\\core\\ableton\\abletonlivesetparser.py:41\u001b[0m, in \u001b[0;36mAbletonLiveSetParser._parse_audio_track\u001b[1;34m(self, track)\u001b[0m\n\u001b[0;32m     37\u001b[0m \u001b[39mdef\u001b[39;00m \u001b[39m_parse_audio_track\u001b[39m(\u001b[39mself\u001b[39m, track: ElementTree) \u001b[39m-\u001b[39m\u001b[39m>\u001b[39m AbletonAudioTrack:\n\u001b[0;32m     38\u001b[0m     audio_track \u001b[39m=\u001b[39m AbletonAudioTrack(\n\u001b[0;32m     39\u001b[0m         \u001b[39mid\u001b[39m\u001b[39m=\u001b[39mtrack\u001b[39m.\u001b[39mget(\u001b[39m\"\u001b[39m\u001b[39mId\u001b[39m\u001b[39m\"\u001b[39m),\n\u001b[0;32m     40\u001b[0m         name\u001b[39m=\u001b[39mtrack\u001b[39m.\u001b[39mfind(\u001b[39m\"\u001b[39m\u001b[39mName\u001b[39m\u001b[39m\"\u001b[39m)\u001b[39m.\u001b[39mfind(\u001b[39m\"\u001b[39m\u001b[39mEffectiveName\u001b[39m\u001b[39m\"\u001b[39m)\u001b[39m.\u001b[39mget(\u001b[39m\"\u001b[39m\u001b[39mValue\u001b[39m\u001b[39m\"\u001b[39m),\n\u001b[1;32m---> 41\u001b[0m         clips\u001b[39m=\u001b[39m\u001b[39mself\u001b[39;49m\u001b[39m.\u001b[39;49m_parse_audio_clips(track\u001b[39m.\u001b[39;49mfindall(\u001b[39m'\u001b[39;49m\u001b[39m.//AudioClip\u001b[39;49m\u001b[39m'\u001b[39;49m)))\n\u001b[0;32m     42\u001b[0m     \u001b[39mreturn\u001b[39;00m audio_track\n",
      "File \u001b[1;32mc:\\Users\\bourd\\mfs\\mfs\\core\\ableton\\abletonlivesetparser.py:52\u001b[0m, in \u001b[0;36mAbletonLiveSetParser._parse_audio_clips\u001b[1;34m(self, clips)\u001b[0m\n\u001b[0;32m     45\u001b[0m audio_clips \u001b[39m=\u001b[39m []\n\u001b[0;32m     46\u001b[0m \u001b[39mfor\u001b[39;00m clip \u001b[39min\u001b[39;00m clips:\n\u001b[0;32m     47\u001b[0m     audio_clip \u001b[39m=\u001b[39m AbletonAudioClip(\n\u001b[0;32m     48\u001b[0m         \u001b[39mid\u001b[39m\u001b[39m=\u001b[39mclip\u001b[39m.\u001b[39mget(\u001b[39m\"\u001b[39m\u001b[39mId\u001b[39m\u001b[39m\"\u001b[39m),\n\u001b[0;32m     49\u001b[0m         name\u001b[39m=\u001b[39mclip\u001b[39m.\u001b[39mfind(\u001b[39m\"\u001b[39m\u001b[39mName\u001b[39m\u001b[39m\"\u001b[39m)\u001b[39m.\u001b[39mget(\u001b[39m\"\u001b[39m\u001b[39mValue\u001b[39m\u001b[39m\"\u001b[39m), \n\u001b[0;32m     50\u001b[0m         relative_file_path\u001b[39m=\u001b[39mclip\u001b[39m.\u001b[39mfind(\u001b[39m'\u001b[39m\u001b[39m.//SampleRef\u001b[39m\u001b[39m'\u001b[39m)\u001b[39m.\u001b[39mfind(\u001b[39m\"\u001b[39m\u001b[39mFileRef\u001b[39m\u001b[39m\"\u001b[39m)\u001b[39m.\u001b[39mfind(\u001b[39m\"\u001b[39m\u001b[39mRelativePath\u001b[39m\u001b[39m\"\u001b[39m)\u001b[39m.\u001b[39mget(\u001b[39m\"\u001b[39m\u001b[39mValue\u001b[39m\u001b[39m\"\u001b[39m),\n\u001b[0;32m     51\u001b[0m         audio_file\u001b[39m=\u001b[39mAudioFile(\n\u001b[1;32m---> 52\u001b[0m             path\u001b[39m=\u001b[39mclip\u001b[39m.\u001b[39;49mfind(\u001b[39m'\u001b[39;49m\u001b[39m.//SampleRef\u001b[39;49m\u001b[39m'\u001b[39;49m)\u001b[39m.\u001b[39;49mfind(\u001b[39m\"\u001b[39;49m\u001b[39mFileRef\u001b[39;49m\u001b[39m\"\u001b[39;49m)\u001b[39m.\u001b[39;49mfind(\u001b[39m\"\u001b[39;49m\u001b[39mPath\u001b[39;49m\u001b[39m\"\u001b[39;49m)\u001b[39m.\u001b[39;49mget(\u001b[39m\"\u001b[39m\u001b[39mValue\u001b[39m\u001b[39m\"\u001b[39m),\n\u001b[0;32m     53\u001b[0m             size\u001b[39m=\u001b[39mclip\u001b[39m.\u001b[39mfind(\u001b[39m'\u001b[39m\u001b[39m.//SampleRef\u001b[39m\u001b[39m'\u001b[39m)\u001b[39m.\u001b[39mfind(\u001b[39m\"\u001b[39m\u001b[39mFileRef\u001b[39m\u001b[39m\"\u001b[39m)\u001b[39m.\u001b[39mfind(\u001b[39m\"\u001b[39m\u001b[39mOriginalFileSize\u001b[39m\u001b[39m\"\u001b[39m)\u001b[39m.\u001b[39mget(\u001b[39m\"\u001b[39m\u001b[39mValue\u001b[39m\u001b[39m\"\u001b[39m),\n\u001b[0;32m     54\u001b[0m             length\u001b[39m=\u001b[39mclip\u001b[39m.\u001b[39mfind(\u001b[39m'\u001b[39m\u001b[39m.//SampleRef\u001b[39m\u001b[39m'\u001b[39m)\u001b[39m.\u001b[39mfind(\u001b[39m\"\u001b[39m\u001b[39mDefaultDuration\u001b[39m\u001b[39m\"\u001b[39m)\u001b[39m.\u001b[39mget(\u001b[39m\"\u001b[39m\u001b[39mValue\u001b[39m\u001b[39m\"\u001b[39m),\n\u001b[0;32m     55\u001b[0m             sample_rate\u001b[39m=\u001b[39mclip\u001b[39m.\u001b[39mfind(\u001b[39m'\u001b[39m\u001b[39m.//SampleRef\u001b[39m\u001b[39m'\u001b[39m)\u001b[39m.\u001b[39mfind(\u001b[39m\"\u001b[39m\u001b[39mDefaultSampleRate\u001b[39m\u001b[39m\"\u001b[39m)\u001b[39m.\u001b[39mget(\u001b[39m\"\u001b[39m\u001b[39mValue\u001b[39m\u001b[39m\"\u001b[39m)\n\u001b[0;32m     56\u001b[0m         )\n\u001b[0;32m     57\u001b[0m     )\n\u001b[0;32m     58\u001b[0m     audio_clips\u001b[39m.\u001b[39mappend(audio_clip)\n\u001b[0;32m     59\u001b[0m \u001b[39mreturn\u001b[39;00m audio_clips\n",
      "\u001b[1;31mAttributeError\u001b[0m: 'NoneType' object has no attribute 'get'"
     ]
    }
   ],
   "source": [
    "from pathlib import Path\n",
    "from mfs.core.ableton.abletonlivesetreader import AbletonLiveSetFileReader\n",
    "from mfs.core.ableton.abletonlivesetparser import AbletonLiveSetParser\n",
    "from xml.etree import ElementTree\n",
    "from playsound import playsound\n",
    "\n",
    "\n",
    "als_path = Path('C:/Users/bourd/mfs/tests/fixtures/Bathroom Shoes Project/Bathroom Shoes.als').resolve()\n",
    "\n",
    "reader = AbletonLiveSetFileReader()\n",
    "\n",
    "tree = reader.read_als_file(als_path)\n",
    "als = AbletonLiveSetParser().parse_als_xml_struct(tree)"
   ]
  },
  {
   "cell_type": "code",
   "execution_count": null,
   "metadata": {},
   "outputs": [
    {
     "name": "stdout",
     "output_type": "stream",
     "text": [
      "Track:  1-Audio\n",
      "\tClip:  Agogo Atabaques 112 bpm 8.57 sec\n",
      "Track:  2-Audio\n",
      "Track:  3-Banjo Arpeggio E Minor 100 bpm\n",
      "\tClip:  Banjo Arpeggio E Minor 100 bpm 4.80 sec\n"
     ]
    },
    {
     "name": "stderr",
     "output_type": "stream",
     "text": [
      "\n",
      "    Error 305 for command:\n",
      "        open \"C:\\Users\\bourd\\AppData\\Local\\Temp\\PS6rtq5_3r.wav\"\n",
      "    Cannot specify extra characters after a string enclosed in quotation marks.\n",
      "\n",
      "    Error 305 for command:\n",
      "        close \"C:\\Users\\bourd\\AppData\\Local\\Temp\\PS6rtq5_3r.wav\"\n",
      "    Cannot specify extra characters after a string enclosed in quotation marks.\n",
      "Failed to close the file: \"C:\\Users\\bourd\\AppData\\Local\\Temp\\PS6rtq5_3r.wav\"\n"
     ]
    },
    {
     "name": "stdout",
     "output_type": "stream",
     "text": [
      "\tClip:  Bass Guitar Feel 0.39 sec\n"
     ]
    },
    {
     "ename": "PlaysoundException",
     "evalue": "\n    Error 305 for command:\n        open \"C:\\Users\\bourd\\AppData\\Local\\Temp\\PS6rtq5_3r.wav\"\n    Cannot specify extra characters after a string enclosed in quotation marks.",
     "output_type": "error",
     "traceback": [
      "\u001b[1;31m---------------------------------------------------------------------------\u001b[0m",
      "\u001b[1;31mPlaysoundException\u001b[0m                        Traceback (most recent call last)",
      "Cell \u001b[1;32mIn[4], line 7\u001b[0m\n\u001b[0;32m      5\u001b[0m \u001b[39mfor\u001b[39;00m clip \u001b[39min\u001b[39;00m track\u001b[39m.\u001b[39mclips:\n\u001b[0;32m      6\u001b[0m     \u001b[39mprint\u001b[39m(\u001b[39m\"\u001b[39m\u001b[39m\\t\u001b[39;00m\u001b[39mClip: \u001b[39m\u001b[39m\"\u001b[39m, clip\u001b[39m.\u001b[39mname, \u001b[39mf\u001b[39m\u001b[39m\"\u001b[39m\u001b[39m{\u001b[39;00mclip\u001b[39m.\u001b[39maudio_file\u001b[39m.\u001b[39mduration\u001b[39m:\u001b[39;00m\u001b[39m.2f\u001b[39m\u001b[39m}\u001b[39;00m\u001b[39m sec\u001b[39m\u001b[39m\"\u001b[39m)\n\u001b[1;32m----> 7\u001b[0m     playsound(clip\u001b[39m.\u001b[39;49maudio_file\u001b[39m.\u001b[39;49mpath)\n",
      "File \u001b[1;32mc:\\Users\\bourd\\anaconda3\\envs\\mfs\\lib\\site-packages\\playsound.py:44\u001b[0m, in \u001b[0;36m_playsoundWin\u001b[1;34m(sound, block)\u001b[0m\n\u001b[0;32m     42\u001b[0m close(fd)  \u001b[39m# mkstemp opens the file, but it must be closed before MCI can open it.\u001b[39;00m\n\u001b[0;32m     43\u001b[0m \u001b[39mtry\u001b[39;00m:\n\u001b[1;32m---> 44\u001b[0m     _playsoundWin(tempPath, block)\n\u001b[0;32m     45\u001b[0m \u001b[39mfinally\u001b[39;00m:\n\u001b[0;32m     46\u001b[0m     remove(tempPath)\n",
      "File \u001b[1;32mc:\\Users\\bourd\\anaconda3\\envs\\mfs\\lib\\site-packages\\playsound.py:72\u001b[0m, in \u001b[0;36m_playsoundWin\u001b[1;34m(sound, block)\u001b[0m\n\u001b[0;32m     70\u001b[0m \u001b[39mtry\u001b[39;00m:\n\u001b[0;32m     71\u001b[0m     logger\u001b[39m.\u001b[39mdebug(\u001b[39m'\u001b[39m\u001b[39mStarting\u001b[39m\u001b[39m'\u001b[39m)\n\u001b[1;32m---> 72\u001b[0m     winCommand(\u001b[39mu\u001b[39;49m\u001b[39m'\u001b[39;49m\u001b[39mopen \u001b[39;49m\u001b[39m{}\u001b[39;49;00m\u001b[39m'\u001b[39;49m\u001b[39m.\u001b[39;49mformat(sound))\n\u001b[0;32m     73\u001b[0m     winCommand(\u001b[39mu\u001b[39m\u001b[39m'\u001b[39m\u001b[39mplay \u001b[39m\u001b[39m{}\u001b[39;00m\u001b[39m{}\u001b[39;00m\u001b[39m'\u001b[39m\u001b[39m.\u001b[39mformat(sound, \u001b[39m'\u001b[39m\u001b[39m wait\u001b[39m\u001b[39m'\u001b[39m \u001b[39mif\u001b[39;00m block \u001b[39melse\u001b[39;00m \u001b[39m'\u001b[39m\u001b[39m'\u001b[39m))\n\u001b[0;32m     74\u001b[0m     logger\u001b[39m.\u001b[39mdebug(\u001b[39m'\u001b[39m\u001b[39mReturning\u001b[39m\u001b[39m'\u001b[39m)\n",
      "File \u001b[1;32mc:\\Users\\bourd\\anaconda3\\envs\\mfs\\lib\\site-packages\\playsound.py:64\u001b[0m, in \u001b[0;36m_playsoundWin.<locals>.winCommand\u001b[1;34m(*command)\u001b[0m\n\u001b[0;32m     60\u001b[0m     exceptionMessage \u001b[39m=\u001b[39m (\u001b[39m'\u001b[39m\u001b[39m\\n\u001b[39;00m\u001b[39m    Error \u001b[39m\u001b[39m'\u001b[39m \u001b[39m+\u001b[39m \u001b[39mstr\u001b[39m(errorCode) \u001b[39m+\u001b[39m \u001b[39m'\u001b[39m\u001b[39m for command:\u001b[39m\u001b[39m'\u001b[39m\n\u001b[0;32m     61\u001b[0m                         \u001b[39m'\u001b[39m\u001b[39m\\n\u001b[39;00m\u001b[39m        \u001b[39m\u001b[39m'\u001b[39m \u001b[39m+\u001b[39m command\u001b[39m.\u001b[39mdecode(\u001b[39m'\u001b[39m\u001b[39mutf-16\u001b[39m\u001b[39m'\u001b[39m) \u001b[39m+\u001b[39m\n\u001b[0;32m     62\u001b[0m                         \u001b[39m'\u001b[39m\u001b[39m\\n\u001b[39;00m\u001b[39m    \u001b[39m\u001b[39m'\u001b[39m \u001b[39m+\u001b[39m errorBuffer\u001b[39m.\u001b[39mraw\u001b[39m.\u001b[39mdecode(\u001b[39m'\u001b[39m\u001b[39mutf-16\u001b[39m\u001b[39m'\u001b[39m)\u001b[39m.\u001b[39mrstrip(\u001b[39m'\u001b[39m\u001b[39m\\0\u001b[39;00m\u001b[39m'\u001b[39m))\n\u001b[0;32m     63\u001b[0m     logger\u001b[39m.\u001b[39merror(exceptionMessage)\n\u001b[1;32m---> 64\u001b[0m     \u001b[39mraise\u001b[39;00m PlaysoundException(exceptionMessage)\n\u001b[0;32m     65\u001b[0m \u001b[39mreturn\u001b[39;00m buf\u001b[39m.\u001b[39mvalue\n",
      "\u001b[1;31mPlaysoundException\u001b[0m: \n    Error 305 for command:\n        open \"C:\\Users\\bourd\\AppData\\Local\\Temp\\PS6rtq5_3r.wav\"\n    Cannot specify extra characters after a string enclosed in quotation marks."
     ]
    }
   ],
   "source": [
    "\n",
    "\n",
    "\n",
    "for track in als.tracks:\n",
    "    \n",
    "    print(\"Track: \", track.name)\n",
    "    if track.clips:\n",
    "        for clip in track.clips:\n",
    "            print(\"\\tClip: \", clip.name, f\"{clip.audio_file.duration:.2f} sec\")\n",
    "            playsound(clip.audio_file.path)"
   ]
  }
 ],
 "metadata": {
  "kernelspec": {
   "display_name": "mfs",
   "language": "python",
   "name": "python3"
  },
  "language_info": {
   "codemirror_mode": {
    "name": "ipython",
    "version": 3
   },
   "file_extension": ".py",
   "mimetype": "text/x-python",
   "name": "python",
   "nbconvert_exporter": "python",
   "pygments_lexer": "ipython3",
   "version": "3.9.6"
  },
  "orig_nbformat": 4
 },
 "nbformat": 4,
 "nbformat_minor": 2
}
